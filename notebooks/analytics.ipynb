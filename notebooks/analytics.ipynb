{
 "cells": [
  {
   "cell_type": "code",
   "execution_count": 1,
   "metadata": {},
   "outputs": [
    {
     "data": {
      "text/html": [
       "<style>.container { width:100% !important; }</style>"
      ],
      "text/plain": [
       "<IPython.core.display.HTML object>"
      ]
     },
     "metadata": {},
     "output_type": "display_data"
    }
   ],
   "source": [
    "from IPython.core.display import display, HTML\n",
    "display(HTML(\"<style>.container { width:100% !important; }</style>\"))"
   ]
  },
  {
   "cell_type": "markdown",
   "metadata": {},
   "source": [
    "# Blog Analytics Notebook"
   ]
  },
  {
   "cell_type": "code",
   "execution_count": 2,
   "metadata": {
    "collapsed": true
   },
   "outputs": [],
   "source": [
    "import json\n",
    "from collections import Counter"
   ]
  },
  {
   "cell_type": "code",
   "execution_count": 3,
   "metadata": {
    "collapsed": true
   },
   "outputs": [],
   "source": [
    "with open('data/articles.json', 'r') as f:\n",
    "    articles_store = json.loads(f.read())"
   ]
  },
  {
   "cell_type": "code",
   "execution_count": 4,
   "metadata": {
    "collapsed": true
   },
   "outputs": [],
   "source": [
    "times = []\n",
    "months = []\n",
    "weekdays = []\n",
    "authors = []\n",
    "categories = []\n",
    "\n",
    "for article in articles_store:\n",
    "    \n",
    "    # Average Reading Time\n",
    "    times.append(article['reading_time'])\n",
    "    average_time = sum(times) / float(len(times))\n",
    "    average_time = round(average_time, 2)\n",
    "    \n",
    "    # Posts by Month\n",
    "    months.append(article['month'])\n",
    "    month_count = Counter(months)\n",
    "    \n",
    "    # Posts by Weekday\n",
    "    weekdays.append(article['weekday'])\n",
    "    weekday_count = Counter(weekdays)\n",
    "    \n",
    "    # Count by Category\n",
    "    categories += article['categories']\n",
    "    category_count = Counter(categories)\n",
    "    \n",
    "    # Count by Author\n",
    "    authors.append(article['author'])\n",
    "    author_count = Counter(authors)"
   ]
  },
  {
   "cell_type": "code",
   "execution_count": 5,
   "metadata": {},
   "outputs": [
    {
     "name": "stdout",
     "output_type": "stream",
     "text": [
      "Average reading time: 10.22\n",
      "Posts by month Counter({'August': 23, 'September': 20, 'June': 19, 'October': 19, 'May': 16, 'November': 16, 'July': 15, 'January': 15, 'March': 13, 'December': 13, 'April': 12, 'February': 11})\n",
      "Posts by weekday Counter({'Monday': 88, 'Wednesday': 45, 'Tuesday': 24, 'Thursday': 22, 'Friday': 13})\n",
      "Posts by category Counter({'editing': 39, 'announcement': 39, 'post-production': 23, 'career': 20, 'storytelling': 15, 'behind the scenes': 14, 'workflow': 11, 'codecs': 8, 'business': 8, 'color correction': 7, 'made in frame': 7, 'production': 5, 'sound': 3, 'cribs': 2, 'design': 2, 'technology': 1})\n",
      "Posts by author Counter({'Emery Wells': 36, 'Ron Dawson': 16, 'Mark Christiansen': 16, 'Stephen Heleker': 12, 'Jason Boone': 10, 'Lisa McNamara': 9, 'Sofi Marshall': 8, 'David Kong': 8, 'Scott Strandberg': 7, 'Yuri Baranovsky': 6, 'Clara Lehmann': 5, 'T Payton': 5, 'Reuben Evans': 4, 'Seth Goldin': 3, 'Jeff Hinton': 3, 'Hilda Saffari': 3, 'Jarle Leirpoll': 3, 'Ryan Charles': 2, 'Alexander Huls': 2, 'Richard Starkey': 2, 'Nick Harauz': 2, 'Jonny Elwyn': 2, 'Zack Arnold': 2, 'Christian Leithart': 2, 'Eric Escobar': 2, 'Andrew LaSane': 2, 'Katie Hinsen': 1, 'Richard Kronenberg': 1, 'Josh Short': 1, 'Misha Tenenbaum': 1, 'Kris Ramsey': 1, 'Jon Collins': 1, 'Ben Haslup': 1, 'Gregory Lewis': 1, 'Michael Chaskes': 1, 'Jeanna French': 1, 'Brian Levin': 1, 'Joe Hood': 1, 'Jes Zurell': 1, 'Robert Hardy': 1, 'Ashraf Meer': 1, 'Zach Prichard': 1, 'Andy Young': 1, 'Chris Salters': 1, 'Sin Cohen': 1, 'Jacqwi Campbell': 1})\n"
     ]
    }
   ],
   "source": [
    "print(\"Average reading time:\", average_time)\n",
    "print(\"Posts by month\", month_count)\n",
    "print(\"Posts by weekday\", weekday_count)\n",
    "print(\"Posts by category\", category_count)\n",
    "print(\"Posts by author\", author_count)"
   ]
  },
  {
   "cell_type": "code",
   "execution_count": 6,
   "metadata": {
    "collapsed": true
   },
   "outputs": [],
   "source": [
    "stats = { \n",
    "    'reading_time': average_time, \n",
    "    'num_articles': len(articles_store) \n",
    "}\n",
    "\n",
    "with open('data/stats.json', 'w') as f:\n",
    "    json.dump(stats, f)\n",
    "\n",
    "with open('data/weekday.json', 'w') as f:\n",
    "    json.dump(weekday_count, f)\n",
    "    \n",
    "with open('data/month.json', 'w') as f:\n",
    "    json.dump(month_count, f)\n",
    "    \n",
    "with open('data/category.json', 'w') as f:\n",
    "    json.dump(category_count, f)\n",
    "\n",
    "with open('data/author.json', 'w') as f:\n",
    "    json.dump(author_count, f)"
   ]
  },
  {
   "cell_type": "code",
   "execution_count": null,
   "metadata": {
    "collapsed": true
   },
   "outputs": [],
   "source": []
  }
 ],
 "metadata": {
  "kernelspec": {
   "display_name": "Python 3",
   "language": "python",
   "name": "python3"
  },
  "language_info": {
   "codemirror_mode": {
    "name": "ipython",
    "version": 3
   },
   "file_extension": ".py",
   "mimetype": "text/x-python",
   "name": "python",
   "nbconvert_exporter": "python",
   "pygments_lexer": "ipython3",
   "version": "3.6.3"
  }
 },
 "nbformat": 4,
 "nbformat_minor": 2
}
